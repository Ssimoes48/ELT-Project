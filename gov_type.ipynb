{
 "cells": [
  {
   "cell_type": "code",
   "execution_count": 1,
   "metadata": {},
   "outputs": [],
   "source": [
    "import pandas as pd"
   ]
  },
  {
   "cell_type": "code",
   "execution_count": null,
   "metadata": {},
   "outputs": [],
   "source": [
    "table_url = 'https://www.mapsofworld.com/thematic-maps/types-of-governments.html'\n",
    "tables = pd.read_html(table_url)\n",
    "tables"
   ]
  },
  {
   "cell_type": "code",
   "execution_count": null,
   "metadata": {},
   "outputs": [],
   "source": [
    "gov_df = tables[5]\n",
    "gov_df.columns = ['Country', 'Govt Type', 'Head of State', 'Head of Government']\n",
    "new_gov_df = gov_df.rename(columns={'Country':'country','Govt Type':'govt_type', 'Head of State':'head_of_state', 'Head of Government':'head_of_government'})\n",
    "new_gov_df.set_index('country', inplace=True)\n",
    "new_gov_df"
   ]
  },
  {
   "cell_type": "code",
   "execution_count": null,
   "metadata": {},
   "outputs": [],
   "source": [
    "from sqlalchemy import create_engine\n",
    "from config import postgres_pwd\n",
    "\n",
    "db_name = \"happiness_db\"\n",
    "table_name = \"countries_by_government\"\n",
    "\n",
    "connection_string = f\"postgres:{postgres_pwd}@localhost:5432/{db_name}\"\n",
    "engine = create_engine(f'postgresql://{connection_string}')\n",
    "conn = engine.connect()\n",
    "\n",
    "new_gov_df.to_sql(table_name, con=engine, if_exists=\"append\", index=False)\n",
    "\n",
    "conn.close()"
   ]
  },
  {
   "cell_type": "code",
   "execution_count": null,
   "metadata": {},
   "outputs": [],
   "source": []
  }
 ],
 "metadata": {
  "kernelspec": {
   "display_name": "Python 3",
   "language": "python",
   "name": "python3"
  },
  "language_info": {
   "codemirror_mode": {
    "name": "ipython",
    "version": 3
   },
   "file_extension": ".py",
   "mimetype": "text/x-python",
   "name": "python",
   "nbconvert_exporter": "python",
   "pygments_lexer": "ipython3",
   "version": "3.8.3"
  }
 },
 "nbformat": 4,
 "nbformat_minor": 4
}
